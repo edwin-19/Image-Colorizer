{
 "cells": [
  {
   "cell_type": "code",
   "execution_count": null,
   "id": "figured-production",
   "metadata": {},
   "outputs": [],
   "source": [
    "import torch\n",
    "import torch.nn as nn\n",
    "from torchsummary import summary\n",
    "from torchvision import transforms as T\n",
    "import cv2\n",
    "from skimage.color import lab2rgb, rgb2lab\n",
    "import numpy as np\n",
    "from matplotlib import pyplot as plt\n",
    "import os\n",
    "import glob"
   ]
  },
  {
   "cell_type": "markdown",
   "id": "unauthorized-valley",
   "metadata": {},
   "source": [
    "# Prepare model class"
   ]
  },
  {
   "cell_type": "code",
   "execution_count": null,
   "id": "executive-wells",
   "metadata": {},
   "outputs": [],
   "source": [
    "class UnetBlock(nn.Module):\n",
    "    def __init__(\n",
    "        self, nf, ni, submodule=None, input_c=None, dropout=False,\n",
    "        innermost=False, outermost=False\n",
    "    ):\n",
    "        super(UnetBlock, self).__init__()\n",
    "        self.outermost = outermost\n",
    "        if input_c is None:\n",
    "            input_c = nf\n",
    "            \n",
    "        downconv = nn.Conv2d(\n",
    "            input_c, ni, kernel_size=4,\n",
    "            stride=2, padding=1, bias=False\n",
    "        )\n",
    "        downrelu = nn.LeakyReLU(0.2, True)\n",
    "        downnorm = nn.BatchNorm2d(ni)\n",
    "        uprelu = nn.ReLU(True)\n",
    "        upnorm = nn.BatchNorm2d(nf)\n",
    "        \n",
    "        if outermost:\n",
    "            upconv = nn.ConvTranspose2d(\n",
    "                ni * 2, nf, kernel_size=4,\n",
    "                stride=2, padding=1\n",
    "            )\n",
    "            down = [downconv]\n",
    "            up = [uprelu, upconv, nn.Tanh()]\n",
    "            model = down + [submodule] + up\n",
    "        elif innermost:\n",
    "            upconv = nn.ConvTranspose2d(\n",
    "                ni, nf, kernel_size=4,\n",
    "                stride=2, padding=1, bias=False\n",
    "            )\n",
    "            down = [downrelu, downconv]\n",
    "            up = [uprelu, upconv, upnorm]\n",
    "            model = down + up\n",
    "        else:\n",
    "            upconv = nn.ConvTranspose2d(\n",
    "                ni * 2, nf, kernel_size=4,\n",
    "                stride=2, padding=1, bias=False\n",
    "            )\n",
    "            down = [downrelu, downconv, downnorm]\n",
    "            up = [uprelu, upconv, upnorm]\n",
    "            if dropout:\n",
    "                up += [nn.Dropout(0.5)]\n",
    "            model = down + [submodule] + up\n",
    "            \n",
    "        self.model = nn.Sequential(*model)\n",
    "        \n",
    "    def forward(self, x):\n",
    "        if self.outermost:\n",
    "            return self.model(x)\n",
    "        else:\n",
    "            return torch.cat([x, self.model(x)], 1)\n",
    "        \n",
    "\n",
    "class Unet(nn.Module):\n",
    "    def __init__(self, input_c=1, output_c=2, n_down=8, num_filters=64):\n",
    "        super(Unet, self).__init__()\n",
    "        unet_block = UnetBlock(\n",
    "            num_filters * 8, num_filters * 8, innermost=True\n",
    "        )\n",
    "        \n",
    "        for _ in range(n_down - 5):\n",
    "            unet_block = UnetBlock(\n",
    "                num_filters * 8, num_filters * 8,\n",
    "                submodule=unet_block, dropout=True\n",
    "            )\n",
    "            \n",
    "        out_filters = num_filters * 8\n",
    "        for _ in range(3):\n",
    "            unet_block = UnetBlock(\n",
    "                out_filters // 2, out_filters, submodule=unet_block\n",
    "            )\n",
    "            out_filters //=2\n",
    "            \n",
    "        \n",
    "        self.model = UnetBlock(\n",
    "            output_c, out_filters, input_c=input_c,\n",
    "            submodule=unet_block, outermost=True\n",
    "        )\n",
    "        \n",
    "    def forward(self, x):\n",
    "        return self.model(x)"
   ]
  },
  {
   "cell_type": "code",
   "execution_count": null,
   "id": "harmful-jewelry",
   "metadata": {},
   "outputs": [],
   "source": [
    "unet = Unet()\n",
    "unet.load_state_dict(torch.load('model/generator_weights.pth'))\n",
    "unet.to('cuda')\n",
    "\n",
    "summary(unet, (1, 256, 256))"
   ]
  },
  {
   "cell_type": "markdown",
   "id": "tracked-african",
   "metadata": {},
   "source": [
    "# Load data and inference"
   ]
  },
  {
   "cell_type": "code",
   "execution_count": null,
   "id": "unlikely-composite",
   "metadata": {},
   "outputs": [],
   "source": [
    "def visualize(**images):\n",
    "    \"\"\"PLot images in one row.\"\"\"\n",
    "    n = len(images)\n",
    "    plt.figure(figsize=(16, 5))\n",
    "    for i, (name, image) in enumerate(images.items()):\n",
    "        plt.subplot(1, n, i + 1)\n",
    "        plt.xticks([])\n",
    "        plt.yticks([])\n",
    "        plt.title(' '.join(name.split('_')).title())\n",
    "        if name == 'L':\n",
    "            plt.imshow(image, cmap='gray')\n",
    "        else:\n",
    "            plt.imshow(image)\n",
    "    plt.show()"
   ]
  },
  {
   "cell_type": "code",
   "execution_count": null,
   "id": "western-links",
   "metadata": {},
   "outputs": [],
   "source": [
    "os.chdir('../')"
   ]
  },
  {
   "cell_type": "code",
   "execution_count": null,
   "id": "refined-drunk",
   "metadata": {},
   "outputs": [],
   "source": [
    "test_images = glob.glob('data/images/Train/*.jpg')"
   ]
  },
  {
   "cell_type": "code",
   "execution_count": null,
   "id": "prepared-consequence",
   "metadata": {
    "scrolled": true
   },
   "outputs": [],
   "source": [
    "for image in np.random.choice(test_images, size=10):\n",
    "    img = cv2.imread(image)\n",
    "    img = cv2.cvtColor(img, cv2.COLOR_BGR2RGB)\n",
    "    \n",
    "    lab_img = rgb2lab(img).astype(np.float32)\n",
    "    lab_img = T.ToTensor()(lab_img)\n",
    "    L = lab_img[[0], ...] / 50. - 1. # Between -1 and 1\n",
    "    \n",
    "    with torch.no_grad():\n",
    "        pred_ab = unet(L.unsqueeze(0).to('cuda'))\n",
    "\n",
    "    L_true = lab_img[[0], ...]\n",
    "    pred_ab = pred_ab * 110.\n",
    "    Lab_pred = torch.cat([L_true, pred_ab.squeeze(0).cpu()])\n",
    "\n",
    "    Lab_pred = Lab_pred.permute(1, 2, 0).numpy()\n",
    "\n",
    "    visualize(\n",
    "        L=L_true.permute(1, 2, 0).numpy(), color=lab2rgb(Lab_pred)\n",
    "    )"
   ]
  },
  {
   "cell_type": "markdown",
   "id": "juvenile-singapore",
   "metadata": {},
   "source": [
    "# Convert model"
   ]
  },
  {
   "cell_type": "code",
   "execution_count": null,
   "id": "continuous-bracket",
   "metadata": {},
   "outputs": [],
   "source": [
    "torch.onnx.export(unet, torch.randn(1, 1, 256, 256, dtype=torch.float32).to('cuda'), 'model/gen.onnx')"
   ]
  }
 ],
 "metadata": {
  "kernelspec": {
   "display_name": "Python 3",
   "language": "python",
   "name": "python3"
  },
  "language_info": {
   "codemirror_mode": {
    "name": "ipython",
    "version": 3
   },
   "file_extension": ".py",
   "mimetype": "text/x-python",
   "name": "python",
   "nbconvert_exporter": "python",
   "pygments_lexer": "ipython3",
   "version": "3.8.8"
  }
 },
 "nbformat": 4,
 "nbformat_minor": 5
}
