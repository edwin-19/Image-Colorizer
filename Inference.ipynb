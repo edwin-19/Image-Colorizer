{
 "cells": [
  {
   "cell_type": "code",
   "execution_count": null,
   "id": "theoretical-fiber",
   "metadata": {},
   "outputs": [],
   "source": [
    "import tensorflow as tf\n",
    "import tensorflow_io as tfio\n",
    "\n",
    "import numpy as np\n",
    "from matplotlib import pyplot as plt\n",
    "import glob"
   ]
  },
  {
   "cell_type": "code",
   "execution_count": null,
   "id": "ethical-segment",
   "metadata": {},
   "outputs": [],
   "source": [
    "test_images = glob.glob('data/testdata/Train/*.jpg')"
   ]
  },
  {
   "cell_type": "code",
   "execution_count": null,
   "id": "square-windsor",
   "metadata": {},
   "outputs": [],
   "source": [
    "img = tf.io.decode_jpeg(tf.io.read_file(test_images[0]))"
   ]
  },
  {
   "cell_type": "code",
   "execution_count": null,
   "id": "employed-converter",
   "metadata": {},
   "outputs": [],
   "source": [
    "img_float = tf.cast(img, tf.float32) / 255.\n",
    "lab_img = tfio.experimental.color.rgb_to_lab(img_float)"
   ]
  },
  {
   "cell_type": "code",
   "execution_count": null,
   "id": "copyrighted-thompson",
   "metadata": {},
   "outputs": [],
   "source": [
    "reconstructed_image = np.zeros((256, 256, 3))"
   ]
  },
  {
   "cell_type": "code",
   "execution_count": null,
   "id": "charged-sport",
   "metadata": {},
   "outputs": [],
   "source": [
    "reconstructed_image[:, :, 0] = lab_img[:, :, 0]\n",
    "reconstructed_image[:, :, 1:] = lab_img[:, :, 1:]"
   ]
  },
  {
   "cell_type": "code",
   "execution_count": null,
   "id": "buried-edgar",
   "metadata": {},
   "outputs": [],
   "source": [
    "plt.imshow(tfio.experimental.color.lab_to_rgb(reconstructed_image))"
   ]
  }
 ],
 "metadata": {
  "kernelspec": {
   "display_name": "Python 3",
   "language": "python",
   "name": "python3"
  },
  "language_info": {
   "codemirror_mode": {
    "name": "ipython",
    "version": 3
   },
   "file_extension": ".py",
   "mimetype": "text/x-python",
   "name": "python",
   "nbconvert_exporter": "python",
   "pygments_lexer": "ipython3",
   "version": "3.8.5"
  }
 },
 "nbformat": 4,
 "nbformat_minor": 5
}
